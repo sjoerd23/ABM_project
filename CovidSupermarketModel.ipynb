{
 "cells": [
  {
   "cell_type": "markdown",
   "metadata": {},
   "source": [
    "# Covid Supermarket Model\n",
    "\n",
    "This notebook can be used to interact with the model and for analyzing the results"
   ]
  },
  {
   "cell_type": "code",
   "execution_count": 1,
   "metadata": {},
   "outputs": [],
   "source": [
    "# import all necessary packages\n",
    "import time\n",
    "import matplotlib.pyplot as plt\n",
    "%matplotlib inline\n",
    "from model import CovidSupermarketModel"
   ]
  },
  {
   "cell_type": "markdown",
   "metadata": {},
   "source": [
    "### Set up variables for model"
   ]
  },
  {
   "cell_type": "code",
   "execution_count": 2,
   "metadata": {},
   "outputs": [],
   "source": [
    "N_customers = 100\n",
    "vaccination_prop = 0.1\n",
    "avoid_radius = 3\n",
    "n_steps = 10\n"
   ]
  },
  {
   "cell_type": "markdown",
   "metadata": {},
   "source": [
    "### Run the model"
   ]
  },
  {
   "cell_type": "code",
   "execution_count": 3,
   "metadata": {},
   "outputs": [
    {
     "name": "stdout",
     "output_type": "stream",
     "text": [
      "Total simulation time: 0.23s\n"
     ]
    }
   ],
   "source": [
    "time_start = time.time()\n",
    "model = CovidSupermarketModel(N_customers, vaccination_prop, avoid_radius)\n",
    "model.run_model(n_steps)\n",
    "print(\"Total simulation time: {:.2f}s\".format(time.time()-time_start))\n"
   ]
  },
  {
   "cell_type": "markdown",
   "metadata": {},
   "source": [
    "### Process results"
   ]
  },
  {
   "cell_type": "code",
   "execution_count": 4,
   "metadata": {},
   "outputs": [
    {
     "data": {
      "image/png": "[encoded data removed]",
      "text/plain": [
       "<Figure size 432x288 with 1 Axes>"
      ]
     },
     "metadata": {
      "needs_background": "light"
     },
     "output_type": "display_data"
    }
   ],
   "source": [
    "# collect data from model\n",
    "model_data = model.datacollector.get_model_vars_dataframe()\n",
    "# model_data.plot()\n",
    "\n",
    "model_data = model_data.to_numpy().flatten()\n",
    "\n",
    "plt.figure()\n",
    "plt.title(\"Number of problematic contacts with {} customers\".format(N_customers))\n",
    "plt.scatter([i for i in range(len(model_data))], model_data)\n",
    "plt.xlabel(\"Time (steps)\")\n",
    "plt.ylabel(\"Number of problematic contacts\")\n",
    "plt.show()"
   ]
  }
 ],
 "metadata": {
  "kernelspec": {
   "display_name": "Python 3",
   "language": "python",
   "name": "python3"
  },
  "language_info": {
   "codemirror_mode": {
    "name": "ipython",
    "version": 3
   },
   "file_extension": ".py",
   "mimetype": "text/x-python",
   "name": "python",
   "nbconvert_exporter": "python",
   "pygments_lexer": "ipython3",
   "version": "3.8.3"
  }
 },
 "nbformat": 4,
 "nbformat_minor": 4
}
