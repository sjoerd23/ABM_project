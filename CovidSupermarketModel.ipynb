{
 "cells": [
  {
   "cell_type": "code",
   "execution_count": 1,
   "metadata": {},
   "outputs": [],
   "source": [
    "# import all necessary packages\n",
    "import time\n",
    "import matplotlib.pyplot as plt\n",
    "%matplotlib inline\n",
    "from model import CovidSupermarketModel"
   ]
  },
  {
   "cell_type": "code",
   "execution_count": 10,
   "metadata": {},
   "outputs": [
    {
     "name": "stdout",
     "output_type": "stream",
     "text": [
      "Total simulation time: 0.60\n"
     ]
    },
    {
     "data": {
      "text/plain": [
       "Text(0, 0.5, 'Number of problematic contacts')"
      ]
     },
     "execution_count": 10,
     "metadata": {},
     "output_type": "execute_result"
    },
    {
     "data": {
      "image/png": "[encoded data removed]",
      "text/plain": [
       "<Figure size 432x288 with 1 Axes>"
      ]
     },
     "metadata": {
      "needs_background": "light"
     },
     "output_type": "display_data"
    }
   ],
   "source": [
    "N_customers = 100\n",
    "vaccination_prop = 0\n",
    "avoid_radius = 3\n",
    "n_steps = 30\n",
    "\n",
    "time_start = time.time()\n",
    "model = CovidSupermarketModel(N_customers, vaccination_prop, avoid_radius)\n",
    "model.run_model(n_steps)\n",
    "print(\"Total simulation time: {:.2f}\".format(time.time()-time_start))\n",
    "\n",
    "# collect data from model\n",
    "model_data = model.datacollector.get_model_vars_dataframe()\n",
    "# model_data.plot()\n",
    "\n",
    "model_data = model_data.to_numpy().flatten()\n",
    "plt.figure()\n",
    "plt.scatter([i for i in range(len(model_data))], model_data)\n",
    "plt.xlabel(\"Time (step)\")\n",
    "plt.ylabel(\"Number of problematic contacts\")\n"
   ]
  }
 ],
 "metadata": {
  "kernelspec": {
   "display_name": "Python 3",
   "language": "python",
   "name": "python3"
  },
  "language_info": {
   "codemirror_mode": {
    "name": "ipython",
    "version": 3
   },
   "file_extension": ".py",
   "mimetype": "text/x-python",
   "name": "python",
   "nbconvert_exporter": "python",
   "pygments_lexer": "ipython3",
   "version": "3.8.3"
  }
 },
 "nbformat": 4,
 "nbformat_minor": 4
}
