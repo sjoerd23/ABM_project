{
 "cells": [
  {
   "cell_type": "markdown",
   "metadata": {},
   "source": [
    "# Covid Supermarket Model\n",
    "\n",
    "This notebook can be used to interact with the model and for analyzing the results"
   ]
  },
  {
   "cell_type": "code",
   "execution_count": 1,
   "metadata": {},
   "outputs": [],
   "source": [
    "# import all necessary packages\n",
    "import time\n",
    "import numpy as np\n",
    "import matplotlib.pyplot as plt\n",
    "%matplotlib inline\n",
    "from model import CovidSupermarketModel\n",
    "import core"
   ]
  },
  {
   "cell_type": "markdown",
   "metadata": {},
   "source": [
    "### Set up variables for model"
   ]
  },
  {
   "cell_type": "code",
   "execution_count": 2,
   "metadata": {},
   "outputs": [],
   "source": [
    "N_customers = 100\n",
    "vaccination_prop = 0.2\n",
    "len_shoplist = 10\n",
    "basic_compliance = 0.2\n",
    "\n",
    "n_steps = 100\n",
    "\n",
    "# load supermarket floorplan for simulation\n",
    "floorplan = core.load_floorplan(\"data/albert_excel_test.csv\")\n",
    "width = len(floorplan)\n",
    "height = len(floorplan[0])"
   ]
  },
  {
   "cell_type": "markdown",
   "metadata": {},
   "source": [
    "### Run the model"
   ]
  },
  {
   "cell_type": "code",
   "execution_count": 4,
   "metadata": {},
   "outputs": [
    {
     "name": "stdout",
     "output_type": "stream",
     "text": [
      "Total simulation time: 21.82s\n"
     ]
    }
   ],
   "source": [
    "time_start = time.time()\n",
    "model = CovidSupermarketModel(\n",
    "    floorplan, width, height, N_customers, vaccination_prop, len_shoplist, basic_compliance\n",
    ")\n",
    "model.run_model(n_steps)\n",
    "datas = model.datacollector.get_model_vars_dataframe().to_numpy().flatten()\n",
    "print(\"Total simulation time: {:.2f}s\".format(time.time()-time_start))\n"
   ]
  },
  {
   "cell_type": "markdown",
   "metadata": {},
   "source": [
    "### Process results"
   ]
  },
  {
   "cell_type": "code",
   "execution_count": null,
   "metadata": {},
   "outputs": [],
   "source": [
    "# collect data from model\n",
    "stat_data = datas[:]\n",
    "mean = np.mean(stat_data)\n",
    "stddev = (1.96 * np.std(stat_data, ddof=1)) / np.sqrt(n_steps)\n",
    "print(\"Problematic contacts: {:.2f}+-{:.2f}\".format(mean, stddev))\n",
    "\n",
    "plt.figure()\n",
    "plt.title(\"Number of problematic contacts {} customers\".format(N_customers))\n",
    "plt.scatter([j for j in range(len(datas))], datas)\n",
    "plt.xlabel(\"Time (steps)\")\n",
    "plt.ylabel(\"Number of problematic contacts\")\n",
    "plt.ylim(0, max(data)+1)\n",
    "plt.show()"
   ]
  },
  {
   "cell_type": "code",
   "execution_count": null,
   "metadata": {},
   "outputs": [],
   "source": []
  }
 ],
 "metadata": {
  "kernelspec": {
   "display_name": "Python 3",
   "language": "python",
   "name": "python3"
  },
  "language_info": {
   "codemirror_mode": {
    "name": "ipython",
    "version": 3
   },
   "file_extension": ".py",
   "mimetype": "text/x-python",
   "name": "python",
   "nbconvert_exporter": "python",
   "pygments_lexer": "ipython3",
   "version": "3.8.3"
  }
 },
 "nbformat": 4,
 "nbformat_minor": 4
}
