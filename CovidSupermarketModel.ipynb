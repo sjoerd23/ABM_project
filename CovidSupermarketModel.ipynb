{
 "cells": [
  {
   "cell_type": "markdown",
   "metadata": {},
   "source": [
    "# Covid Supermarket Model\n",
    "\n",
    "This notebook can be used to interact with the model and for analyzing the results"
   ]
  },
  {
   "cell_type": "code",
   "execution_count": 1,
   "metadata": {},
   "outputs": [],
   "source": [
    "# import all necessary packages\n",
    "import time\n",
    "import numpy as np\n",
    "import matplotlib.pyplot as plt\n",
    "%matplotlib inline\n",
    "from model import CovidSupermarketModel\n",
    "import core"
   ]
  },
  {
   "cell_type": "markdown",
   "metadata": {},
   "source": [
    "### Set up variables for model"
   ]
  },
  {
   "cell_type": "code",
   "execution_count": 2,
   "metadata": {},
   "outputs": [],
   "source": [
    "N_customers = 100\n",
    "vaccination_prop = 0.0\n",
    "len_shoplist = 10\n",
    "\n",
    "n_steps = 1000\n",
    "\n",
    "N_customers_array = [25, 50, 75, 100, 125, 150]\n",
    "\n",
    "# load supermarket floorplan for simulation\n",
    "floorplan = core.load_floorplan(\"data/albert_excel_test.csv\")\n",
    "width = len(floorplan)\n",
    "height = len(floorplan[0])"
   ]
  },
  {
   "cell_type": "markdown",
   "metadata": {},
   "source": [
    "### Run the model"
   ]
  },
  {
   "cell_type": "code",
   "execution_count": null,
   "metadata": {},
   "outputs": [
    {
     "name": "stderr",
     "output_type": "stream",
     "text": [
      "100%|██████████| 1000/1000 [00:10<00:00, 93.23it/s]\n",
      "100%|██████████| 1000/1000 [00:21<00:00, 46.03it/s]\n",
      " 98%|█████████▊| 977/1000 [00:31<00:00, 32.45it/s]"
     ]
    }
   ],
   "source": [
    "datas = np.zeros((len(N_customers_array), n_steps+1))\n",
    "\n",
    "time_start = time.time()\n",
    "for i, N_customers in enumerate(N_customers_array):\n",
    "    model = CovidSupermarketModel(floorplan, width, height, N_customers, vaccination_prop, len_shoplist)\n",
    "    model.run_model(n_steps)\n",
    "    datas[i] = model.datacollector.get_model_vars_dataframe().to_numpy().flatten()\n",
    "print(\"Total simulation time: {:.2f}s\".format(time.time()-time_start))\n"
   ]
  },
  {
   "cell_type": "markdown",
   "metadata": {},
   "source": [
    "### Process results"
   ]
  },
  {
   "cell_type": "code",
   "execution_count": null,
   "metadata": {},
   "outputs": [],
   "source": [
    "# collect data from model\n",
    "# model_data = model.datacollector.get_model_vars_dataframe()\n",
    "# # model_data.plot()\n",
    "\n",
    "# model_data = model_data.to_numpy().flatten()\n",
    "\n",
    "for data in datas:\n",
    "    stat_data = data[500:]\n",
    "    mean = np.mean(stat_data)\n",
    "    stddev = (1.96 * np.std(stat_data, ddof=1)) / np.sqrt(n_steps)\n",
    "    print(\"Problematic contacts: {:.2f}+-{:.2f}\".format(mean, stddev))\n",
    "\n",
    "for i, data in enumerate(datas):\n",
    "    plt.figure()\n",
    "    plt.title(\"Number of problematic contacts {} customers\".format(N_customers_array[i]))\n",
    "    plt.scatter([j for j in range(len(data))], data)\n",
    "    plt.xlabel(\"Time (steps)\")\n",
    "    plt.ylabel(\"Number of problematic contacts\")\n",
    "    plt.ylim(0, max(data)+1)\n",
    "    plt.show()"
   ]
  },
  {
   "cell_type": "code",
   "execution_count": null,
   "metadata": {},
   "outputs": [],
   "source": []
  }
 ],
 "metadata": {
  "kernelspec": {
   "display_name": "Python 3",
   "language": "python",
   "name": "python3"
  },
  "language_info": {
   "codemirror_mode": {
    "name": "ipython",
    "version": 3
   },
   "file_extension": ".py",
   "mimetype": "text/x-python",
   "name": "python",
   "nbconvert_exporter": "python",
   "pygments_lexer": "ipython3",
   "version": "3.8.3"
  }
 },
 "nbformat": 4,
 "nbformat_minor": 4
}
